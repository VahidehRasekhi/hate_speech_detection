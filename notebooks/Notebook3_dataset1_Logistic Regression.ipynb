{
 "cells": [
  {
   "cell_type": "code",
   "execution_count": 1,
   "id": "1d1fd00b",
   "metadata": {},
   "outputs": [],
   "source": [
    "import numpy as np\n",
    "import pandas as pd \n",
    "import re\n",
    "import matplotlib.pyplot as plt\n",
    "from matplotlib import style"
   ]
  },
  {
   "cell_type": "code",
   "execution_count": 2,
   "id": "d3696550",
   "metadata": {},
   "outputs": [
    {
     "data": {
      "text/html": [
       "<div>\n",
       "<style scoped>\n",
       "    .dataframe tbody tr th:only-of-type {\n",
       "        vertical-align: middle;\n",
       "    }\n",
       "\n",
       "    .dataframe tbody tr th {\n",
       "        vertical-align: top;\n",
       "    }\n",
       "\n",
       "    .dataframe thead th {\n",
       "        text-align: right;\n",
       "    }\n",
       "</style>\n",
       "<table border=\"1\" class=\"dataframe\">\n",
       "  <thead>\n",
       "    <tr style=\"text-align: right;\">\n",
       "      <th></th>\n",
       "      <th>id</th>\n",
       "      <th>label</th>\n",
       "      <th>tweet</th>\n",
       "      <th>length</th>\n",
       "      <th>count</th>\n",
       "    </tr>\n",
       "  </thead>\n",
       "  <tbody>\n",
       "    <tr>\n",
       "      <th>0</th>\n",
       "      <td>1</td>\n",
       "      <td>0</td>\n",
       "      <td>father dysfunctional selfish drags kids dysfun...</td>\n",
       "      <td>55</td>\n",
       "      <td>7</td>\n",
       "    </tr>\n",
       "    <tr>\n",
       "      <th>1</th>\n",
       "      <td>2</td>\n",
       "      <td>0</td>\n",
       "      <td>thanks lyft credit use cause offer wheelchair ...</td>\n",
       "      <td>77</td>\n",
       "      <td>11</td>\n",
       "    </tr>\n",
       "    <tr>\n",
       "      <th>2</th>\n",
       "      <td>3</td>\n",
       "      <td>0</td>\n",
       "      <td>bihday majesty</td>\n",
       "      <td>14</td>\n",
       "      <td>2</td>\n",
       "    </tr>\n",
       "    <tr>\n",
       "      <th>3</th>\n",
       "      <td>4</td>\n",
       "      <td>0</td>\n",
       "      <td>model love u take u time ur</td>\n",
       "      <td>27</td>\n",
       "      <td>7</td>\n",
       "    </tr>\n",
       "    <tr>\n",
       "      <th>4</th>\n",
       "      <td>5</td>\n",
       "      <td>0</td>\n",
       "      <td>factsguide society motivation</td>\n",
       "      <td>29</td>\n",
       "      <td>3</td>\n",
       "    </tr>\n",
       "    <tr>\n",
       "      <th>...</th>\n",
       "      <td>...</td>\n",
       "      <td>...</td>\n",
       "      <td>...</td>\n",
       "      <td>...</td>\n",
       "      <td>...</td>\n",
       "    </tr>\n",
       "    <tr>\n",
       "      <th>31925</th>\n",
       "      <td>31958</td>\n",
       "      <td>0</td>\n",
       "      <td>ate isz youuu</td>\n",
       "      <td>13</td>\n",
       "      <td>3</td>\n",
       "    </tr>\n",
       "    <tr>\n",
       "      <th>31926</th>\n",
       "      <td>31959</td>\n",
       "      <td>0</td>\n",
       "      <td>see nina turner airwaves trying wrap mantle ge...</td>\n",
       "      <td>93</td>\n",
       "      <td>14</td>\n",
       "    </tr>\n",
       "    <tr>\n",
       "      <th>31927</th>\n",
       "      <td>31960</td>\n",
       "      <td>0</td>\n",
       "      <td>listening sad songs monday morning otw work sad</td>\n",
       "      <td>47</td>\n",
       "      <td>8</td>\n",
       "    </tr>\n",
       "    <tr>\n",
       "      <th>31928</th>\n",
       "      <td>31961</td>\n",
       "      <td>1</td>\n",
       "      <td>sikh temple vandalised calgary wso condemns act</td>\n",
       "      <td>47</td>\n",
       "      <td>7</td>\n",
       "    </tr>\n",
       "    <tr>\n",
       "      <th>31929</th>\n",
       "      <td>31962</td>\n",
       "      <td>0</td>\n",
       "      <td>thank follow</td>\n",
       "      <td>12</td>\n",
       "      <td>2</td>\n",
       "    </tr>\n",
       "  </tbody>\n",
       "</table>\n",
       "<p>31930 rows × 5 columns</p>\n",
       "</div>"
      ],
      "text/plain": [
       "          id  label                                              tweet  \\\n",
       "0          1      0  father dysfunctional selfish drags kids dysfun...   \n",
       "1          2      0  thanks lyft credit use cause offer wheelchair ...   \n",
       "2          3      0                                     bihday majesty   \n",
       "3          4      0                        model love u take u time ur   \n",
       "4          5      0                      factsguide society motivation   \n",
       "...      ...    ...                                                ...   \n",
       "31925  31958      0                                      ate isz youuu   \n",
       "31926  31959      0  see nina turner airwaves trying wrap mantle ge...   \n",
       "31927  31960      0    listening sad songs monday morning otw work sad   \n",
       "31928  31961      1    sikh temple vandalised calgary wso condemns act   \n",
       "31929  31962      0                                       thank follow   \n",
       "\n",
       "       length  count  \n",
       "0          55      7  \n",
       "1          77     11  \n",
       "2          14      2  \n",
       "3          27      7  \n",
       "4          29      3  \n",
       "...       ...    ...  \n",
       "31925      13      3  \n",
       "31926      93     14  \n",
       "31927      47      8  \n",
       "31928      47      7  \n",
       "31929      12      2  \n",
       "\n",
       "[31930 rows x 5 columns]"
      ]
     },
     "execution_count": 2,
     "metadata": {},
     "output_type": "execute_result"
    }
   ],
   "source": [
    "train_tweets=pd.read_csv('../data/Dataset 1/clean_train_tweets.csv', encoding=\"utf-8\")\n",
    "train_tweets"
   ]
  },
  {
   "cell_type": "markdown",
   "id": "846df338",
   "metadata": {},
   "source": [
    "### Create CountVectorizer\n"
   ]
  },
  {
   "cell_type": "code",
   "execution_count": 3,
   "id": "dac96070",
   "metadata": {},
   "outputs": [],
   "source": [
    "#using scikit-learn to transform text into token count vector\n",
    "\n",
    "from sklearn.feature_extraction.text import CountVectorizer\n",
    "\n",
    "count_vector = CountVectorizer(\n",
    "    token_pattern = r\"[a-z]+\", \n",
    "    ngram_range = (1,1), #ngram_range (1,1)= only unigrams, (1,2)=unigrams and bigrams, (2,2)=bigrams\n",
    "    lowercase = True,\n",
    "    min_df = 1, #min_df=1 is the default, means ignore terms that appear in less than 1 document/text.\n",
    "    max_df = 1.0 #max_df=1.0 is the default, means ignore terms that appear in more than 100% of the documents/texts.\n",
    ")"
   ]
  },
  {
   "cell_type": "markdown",
   "id": "3855ecde",
   "metadata": {},
   "source": [
    "### Splitting the train dataset into train and development"
   ]
  },
  {
   "cell_type": "code",
   "execution_count": 4,
   "id": "a41ff53d",
   "metadata": {},
   "outputs": [],
   "source": [
    "#to test perfomarnce against the development set, we can split the training dataset into train and dev\n",
    "\n",
    "from sklearn.model_selection import train_test_split"
   ]
  },
  {
   "cell_type": "code",
   "execution_count": 5,
   "id": "e2ab8397",
   "metadata": {},
   "outputs": [],
   "source": [
    "#15% of train_tweets will be in dev\n",
    "train, dev= train_test_split(train_tweets, test_size=0.15, random_state=42)"
   ]
  },
  {
   "cell_type": "code",
   "execution_count": 6,
   "id": "5c17e577",
   "metadata": {},
   "outputs": [
    {
     "data": {
      "text/html": [
       "<div>\n",
       "<style scoped>\n",
       "    .dataframe tbody tr th:only-of-type {\n",
       "        vertical-align: middle;\n",
       "    }\n",
       "\n",
       "    .dataframe tbody tr th {\n",
       "        vertical-align: top;\n",
       "    }\n",
       "\n",
       "    .dataframe thead th {\n",
       "        text-align: right;\n",
       "    }\n",
       "</style>\n",
       "<table border=\"1\" class=\"dataframe\">\n",
       "  <thead>\n",
       "    <tr style=\"text-align: right;\">\n",
       "      <th></th>\n",
       "      <th>id</th>\n",
       "      <th>label</th>\n",
       "      <th>tweet</th>\n",
       "      <th>length</th>\n",
       "      <th>count</th>\n",
       "    </tr>\n",
       "  </thead>\n",
       "  <tbody>\n",
       "    <tr>\n",
       "      <th>5561</th>\n",
       "      <td>5569</td>\n",
       "      <td>0</td>\n",
       "      <td>excited saturday fake festival sister bihday s...</td>\n",
       "      <td>63</td>\n",
       "      <td>10</td>\n",
       "    </tr>\n",
       "    <tr>\n",
       "      <th>5500</th>\n",
       "      <td>5508</td>\n",
       "      <td>0</td>\n",
       "      <td>folks repoing violence france euro 2016 though...</td>\n",
       "      <td>84</td>\n",
       "      <td>13</td>\n",
       "    </tr>\n",
       "    <tr>\n",
       "      <th>25832</th>\n",
       "      <td>25861</td>\n",
       "      <td>0</td>\n",
       "      <td>remaster remaster everywhere</td>\n",
       "      <td>28</td>\n",
       "      <td>3</td>\n",
       "    </tr>\n",
       "    <tr>\n",
       "      <th>4480</th>\n",
       "      <td>4484</td>\n",
       "      <td>0</td>\n",
       "      <td>happy positive affirmation</td>\n",
       "      <td>26</td>\n",
       "      <td>3</td>\n",
       "    </tr>\n",
       "    <tr>\n",
       "      <th>18879</th>\n",
       "      <td>18903</td>\n",
       "      <td>0</td>\n",
       "      <td>inspired grateful aists painters creative peop...</td>\n",
       "      <td>53</td>\n",
       "      <td>7</td>\n",
       "    </tr>\n",
       "    <tr>\n",
       "      <th>...</th>\n",
       "      <td>...</td>\n",
       "      <td>...</td>\n",
       "      <td>...</td>\n",
       "      <td>...</td>\n",
       "      <td>...</td>\n",
       "    </tr>\n",
       "    <tr>\n",
       "      <th>29802</th>\n",
       "      <td>29834</td>\n",
       "      <td>0</td>\n",
       "      <td>ahhh hea breaks really seemed like keeper bach...</td>\n",
       "      <td>54</td>\n",
       "      <td>8</td>\n",
       "    </tr>\n",
       "    <tr>\n",
       "      <th>5390</th>\n",
       "      <td>5398</td>\n",
       "      <td>0</td>\n",
       "      <td>bread x one million loaves bread math carbs li...</td>\n",
       "      <td>58</td>\n",
       "      <td>10</td>\n",
       "    </tr>\n",
       "    <tr>\n",
       "      <th>860</th>\n",
       "      <td>861</td>\n",
       "      <td>1</td>\n",
       "      <td>black professor makes assumptions entire race ...</td>\n",
       "      <td>88</td>\n",
       "      <td>13</td>\n",
       "    </tr>\n",
       "    <tr>\n",
       "      <th>15795</th>\n",
       "      <td>15816</td>\n",
       "      <td>0</td>\n",
       "      <td>launch new restaurant tuesday buzzing</td>\n",
       "      <td>37</td>\n",
       "      <td>5</td>\n",
       "    </tr>\n",
       "    <tr>\n",
       "      <th>23654</th>\n",
       "      <td>23681</td>\n",
       "      <td>0</td>\n",
       "      <td>war sucks deathbattle fightfor 15 bombers kill...</td>\n",
       "      <td>101</td>\n",
       "      <td>12</td>\n",
       "    </tr>\n",
       "  </tbody>\n",
       "</table>\n",
       "<p>27140 rows × 5 columns</p>\n",
       "</div>"
      ],
      "text/plain": [
       "          id  label                                              tweet  \\\n",
       "5561    5569      0  excited saturday fake festival sister bihday s...   \n",
       "5500    5508      0  folks repoing violence france euro 2016 though...   \n",
       "25832  25861      0                       remaster remaster everywhere   \n",
       "4480    4484      0                         happy positive affirmation   \n",
       "18879  18903      0  inspired grateful aists painters creative peop...   \n",
       "...      ...    ...                                                ...   \n",
       "29802  29834      0  ahhh hea breaks really seemed like keeper bach...   \n",
       "5390    5398      0  bread x one million loaves bread math carbs li...   \n",
       "860      861      1  black professor makes assumptions entire race ...   \n",
       "15795  15816      0              launch new restaurant tuesday buzzing   \n",
       "23654  23681      0  war sucks deathbattle fightfor 15 bombers kill...   \n",
       "\n",
       "       length  count  \n",
       "5561       63     10  \n",
       "5500       84     13  \n",
       "25832      28      3  \n",
       "4480       26      3  \n",
       "18879      53      7  \n",
       "...       ...    ...  \n",
       "29802      54      8  \n",
       "5390       58     10  \n",
       "860        88     13  \n",
       "15795      37      5  \n",
       "23654     101     12  \n",
       "\n",
       "[27140 rows x 5 columns]"
      ]
     },
     "execution_count": 6,
     "metadata": {},
     "output_type": "execute_result"
    }
   ],
   "source": [
    "train"
   ]
  },
  {
   "cell_type": "code",
   "execution_count": 7,
   "id": "1c7382ec",
   "metadata": {},
   "outputs": [
    {
     "data": {
      "text/html": [
       "<div>\n",
       "<style scoped>\n",
       "    .dataframe tbody tr th:only-of-type {\n",
       "        vertical-align: middle;\n",
       "    }\n",
       "\n",
       "    .dataframe tbody tr th {\n",
       "        vertical-align: top;\n",
       "    }\n",
       "\n",
       "    .dataframe thead th {\n",
       "        text-align: right;\n",
       "    }\n",
       "</style>\n",
       "<table border=\"1\" class=\"dataframe\">\n",
       "  <thead>\n",
       "    <tr style=\"text-align: right;\">\n",
       "      <th></th>\n",
       "      <th>id</th>\n",
       "      <th>label</th>\n",
       "      <th>tweet</th>\n",
       "      <th>length</th>\n",
       "      <th>count</th>\n",
       "    </tr>\n",
       "  </thead>\n",
       "  <tbody>\n",
       "    <tr>\n",
       "      <th>29583</th>\n",
       "      <td>29614</td>\n",
       "      <td>0</td>\n",
       "      <td>tried wedding suit 1st time today much</td>\n",
       "      <td>38</td>\n",
       "      <td>7</td>\n",
       "    </tr>\n",
       "    <tr>\n",
       "      <th>2153</th>\n",
       "      <td>2155</td>\n",
       "      <td>0</td>\n",
       "      <td>sent father day gifts today fathersdaygiftidea...</td>\n",
       "      <td>70</td>\n",
       "      <td>8</td>\n",
       "    </tr>\n",
       "    <tr>\n",
       "      <th>18511</th>\n",
       "      <td>18535</td>\n",
       "      <td>0</td>\n",
       "      <td>bangkok got 7 shopping cantwaittoseegot 7 omg</td>\n",
       "      <td>45</td>\n",
       "      <td>7</td>\n",
       "    </tr>\n",
       "    <tr>\n",
       "      <th>1668</th>\n",
       "      <td>1669</td>\n",
       "      <td>0</td>\n",
       "      <td>lamp head see fragile saw li</td>\n",
       "      <td>28</td>\n",
       "      <td>6</td>\n",
       "    </tr>\n",
       "    <tr>\n",
       "      <th>10092</th>\n",
       "      <td>10103</td>\n",
       "      <td>0</td>\n",
       "      <td>3 weeks till interrailing</td>\n",
       "      <td>25</td>\n",
       "      <td>4</td>\n",
       "    </tr>\n",
       "    <tr>\n",
       "      <th>...</th>\n",
       "      <td>...</td>\n",
       "      <td>...</td>\n",
       "      <td>...</td>\n",
       "      <td>...</td>\n",
       "      <td>...</td>\n",
       "    </tr>\n",
       "    <tr>\n",
       "      <th>22226</th>\n",
       "      <td>22252</td>\n",
       "      <td>0</td>\n",
       "      <td>kwon soon young born day</td>\n",
       "      <td>24</td>\n",
       "      <td>5</td>\n",
       "    </tr>\n",
       "    <tr>\n",
       "      <th>18515</th>\n",
       "      <td>18539</td>\n",
       "      <td>1</td>\n",
       "      <td>realitycheck policing america cop audiblechann...</td>\n",
       "      <td>75</td>\n",
       "      <td>7</td>\n",
       "    </tr>\n",
       "    <tr>\n",
       "      <th>4749</th>\n",
       "      <td>4753</td>\n",
       "      <td>1</td>\n",
       "      <td>hard believe live world 700 pa hillary thread ...</td>\n",
       "      <td>64</td>\n",
       "      <td>11</td>\n",
       "    </tr>\n",
       "    <tr>\n",
       "      <th>31290</th>\n",
       "      <td>31322</td>\n",
       "      <td>0</td>\n",
       "      <td>father day love u papa</td>\n",
       "      <td>22</td>\n",
       "      <td>5</td>\n",
       "    </tr>\n",
       "    <tr>\n",
       "      <th>27417</th>\n",
       "      <td>27446</td>\n",
       "      <td>0</td>\n",
       "      <td>tupacs bihday bihday well play thugs mansion t...</td>\n",
       "      <td>87</td>\n",
       "      <td>14</td>\n",
       "    </tr>\n",
       "  </tbody>\n",
       "</table>\n",
       "<p>4790 rows × 5 columns</p>\n",
       "</div>"
      ],
      "text/plain": [
       "          id  label                                              tweet  \\\n",
       "29583  29614      0             tried wedding suit 1st time today much   \n",
       "2153    2155      0  sent father day gifts today fathersdaygiftidea...   \n",
       "18511  18535      0      bangkok got 7 shopping cantwaittoseegot 7 omg   \n",
       "1668    1669      0                       lamp head see fragile saw li   \n",
       "10092  10103      0                          3 weeks till interrailing   \n",
       "...      ...    ...                                                ...   \n",
       "22226  22252      0                           kwon soon young born day   \n",
       "18515  18539      1  realitycheck policing america cop audiblechann...   \n",
       "4749    4753      1  hard believe live world 700 pa hillary thread ...   \n",
       "31290  31322      0                             father day love u papa   \n",
       "27417  27446      0  tupacs bihday bihday well play thugs mansion t...   \n",
       "\n",
       "       length  count  \n",
       "29583      38      7  \n",
       "2153       70      8  \n",
       "18511      45      7  \n",
       "1668       28      6  \n",
       "10092      25      4  \n",
       "...       ...    ...  \n",
       "22226      24      5  \n",
       "18515      75      7  \n",
       "4749       64     11  \n",
       "31290      22      5  \n",
       "27417      87     14  \n",
       "\n",
       "[4790 rows x 5 columns]"
      ]
     },
     "execution_count": 7,
     "metadata": {},
     "output_type": "execute_result"
    }
   ],
   "source": [
    "dev"
   ]
  },
  {
   "cell_type": "code",
   "execution_count": 8,
   "id": "f82f28ce",
   "metadata": {},
   "outputs": [
    {
     "data": {
      "text/plain": [
       "<27140x34039 sparse matrix of type '<class 'numpy.int64'>'\n",
       "\twith 200746 stored elements in Compressed Sparse Row format>"
      ]
     },
     "execution_count": 8,
     "metadata": {},
     "output_type": "execute_result"
    }
   ],
   "source": [
    "X_train = train['tweet'].values\n",
    "X_train_vect = count_vector.fit_transform(X_train) #fitting CountVectorizer, transforms trainging data into \n",
    "                                                    #matrix representing token counts \n",
    "X_train_vect"
   ]
  },
  {
   "cell_type": "code",
   "execution_count": 9,
   "id": "b0704731",
   "metadata": {},
   "outputs": [
    {
     "data": {
      "text/plain": [
       "(27140, 34039)"
      ]
     },
     "execution_count": 9,
     "metadata": {},
     "output_type": "execute_result"
    }
   ],
   "source": [
    "#vectorized tweets\n",
    "X_train_vect.shape"
   ]
  },
  {
   "cell_type": "code",
   "execution_count": 10,
   "id": "b24a31aa",
   "metadata": {},
   "outputs": [],
   "source": [
    "#y_train is the labels of tweets\n",
    "y_train = train['label'].values"
   ]
  },
  {
   "cell_type": "code",
   "execution_count": 11,
   "id": "f545881b",
   "metadata": {},
   "outputs": [
    {
     "data": {
      "text/plain": [
       "(27140,)"
      ]
     },
     "execution_count": 11,
     "metadata": {},
     "output_type": "execute_result"
    }
   ],
   "source": [
    "y_train.shape"
   ]
  },
  {
   "cell_type": "markdown",
   "id": "aadded1d",
   "metadata": {},
   "source": [
    "### Logistic Regression Model"
   ]
  },
  {
   "cell_type": "code",
   "execution_count": 12,
   "id": "d974f30e",
   "metadata": {},
   "outputs": [],
   "source": [
    "from sklearn.linear_model import LogisticRegression"
   ]
  },
  {
   "cell_type": "code",
   "execution_count": 13,
   "id": "ec5270c3",
   "metadata": {},
   "outputs": [
    {
     "data": {
      "text/plain": [
       "LogisticRegression()"
      ]
     },
     "execution_count": 13,
     "metadata": {},
     "output_type": "execute_result"
    }
   ],
   "source": [
    "#fitting logreg\n",
    "logreg=LogisticRegression()\n",
    "logreg.fit(X_train_vect, y_train)"
   ]
  },
  {
   "cell_type": "code",
   "execution_count": 14,
   "id": "d7d47295",
   "metadata": {},
   "outputs": [],
   "source": [
    "#vectorizing dev_tweets \n",
    "X_dev = dev['tweet'].values\n",
    "X_dev_vect = count_vector.transform(X_dev) # Note that the vectorizer is already fit, so we only use the transform method.\n",
    "y_dev = dev['label'].values"
   ]
  },
  {
   "cell_type": "code",
   "execution_count": 15,
   "id": "7975995e",
   "metadata": {},
   "outputs": [],
   "source": [
    "#predicting\n",
    "logreg_predict=logreg.predict(X_dev_vect)"
   ]
  },
  {
   "cell_type": "code",
   "execution_count": 16,
   "id": "be521c1f",
   "metadata": {},
   "outputs": [],
   "source": [
    "from sklearn.metrics import accuracy_score, classification_report, confusion_matrix, ConfusionMatrixDisplay"
   ]
  },
  {
   "cell_type": "code",
   "execution_count": 17,
   "id": "a0fa35e0",
   "metadata": {},
   "outputs": [
    {
     "name": "stdout",
     "output_type": "stream",
     "text": [
      "Test accuracy:95.70%\n"
     ]
    }
   ],
   "source": [
    "#accuracy score\n",
    "logreg_acc=accuracy_score(logreg_predict, y_dev)\n",
    "print(\"Test accuracy:{:.2f}%\" .format(logreg_acc*100))"
   ]
  },
  {
   "cell_type": "code",
   "execution_count": 18,
   "id": "f295bcd2",
   "metadata": {},
   "outputs": [
    {
     "name": "stdout",
     "output_type": "stream",
     "text": [
      "[[4395   32]\n",
      " [ 174  189]]\n",
      "\n",
      "\n",
      "              precision    recall  f1-score   support\n",
      "\n",
      "           0       0.96      0.99      0.98      4427\n",
      "           1       0.86      0.52      0.65       363\n",
      "\n",
      "    accuracy                           0.96      4790\n",
      "   macro avg       0.91      0.76      0.81      4790\n",
      "weighted avg       0.95      0.96      0.95      4790\n",
      "\n"
     ]
    }
   ],
   "source": [
    "#confusion matrix\n",
    "print (confusion_matrix(y_dev, logreg_predict))\n",
    "print(\"\\n\")\n",
    "print(classification_report(y_dev, logreg_predict))\n",
    "\n",
    "#confusion matrix TP 4395 -- FP 32  #positives are non_offensive\n",
    "                # FN 174  -- TN 189  #negatives are offensive"
   ]
  },
  {
   "cell_type": "code",
   "execution_count": 19,
   "id": "24734a0f",
   "metadata": {},
   "outputs": [
    {
     "data": {
      "text/plain": [
       "<sklearn.metrics._plot.confusion_matrix.ConfusionMatrixDisplay at 0x7fc264029df0>"
      ]
     },
     "execution_count": 19,
     "metadata": {},
     "output_type": "execute_result"
    },
    {
     "data": {
      "image/png": "[encoded data removed]",
      "text/plain": [
       "<Figure size 640x480 with 2 Axes>"
      ]
     },
     "metadata": {},
     "output_type": "display_data"
    }
   ],
   "source": [
    "#plotting confusion matrix\n",
    "style.use('classic')\n",
    "cm=confusion_matrix(y_dev, logreg_predict, labels=logreg.classes_)\n",
    "display=ConfusionMatrixDisplay(confusion_matrix=cm,display_labels=logreg.classes_)\n",
    "display.plot()"
   ]
  },
  {
   "cell_type": "markdown",
   "id": "f6f4bd8c",
   "metadata": {},
   "source": [
    "### Hyperparameter tuning using GridSearchCV and RandomizedSearchCV"
   ]
  },
  {
   "cell_type": "code",
   "execution_count": 20,
   "id": "0215b0e9",
   "metadata": {},
   "outputs": [],
   "source": [
    "#setting up a PredefinedSplit\n",
    "\n",
    "X_train = train['tweet'].values\n",
    "y_train = train['label'].values\n",
    "\n",
    "X_dev = dev['tweet'].values\n",
    "y_dev = dev['label'].values\n",
    "\n",
    "X = np.hstack([X_train, X_dev])\n",
    "y = np.hstack([y_train, y_dev])"
   ]
  },
  {
   "cell_type": "code",
   "execution_count": 21,
   "id": "4dca4099",
   "metadata": {},
   "outputs": [
    {
     "data": {
      "text/plain": [
       "-1.0    27140\n",
       " 0.0     4790\n",
       "dtype: int64"
      ]
     },
     "execution_count": 21,
     "metadata": {},
     "output_type": "execute_result"
    }
   ],
   "source": [
    "#assign 0 to items that are in dev and -1 for the rest\n",
    "split_train_dev= np.zeros(shape=y.shape)\n",
    "split_train_dev[:y_train.shape[0]] = -1\n",
    "pd.value_counts(split_train_dev)"
   ]
  },
  {
   "cell_type": "markdown",
   "id": "4563c858",
   "metadata": {},
   "source": [
    "### GridSearchCV"
   ]
  },
  {
   "cell_type": "code",
   "execution_count": 22,
   "id": "4f059d35",
   "metadata": {},
   "outputs": [],
   "source": [
    "from sklearn.model_selection import PredefinedSplit,GridSearchCV\n",
    "\n",
    "ps = PredefinedSplit(split_train_dev)"
   ]
  },
  {
   "cell_type": "code",
   "execution_count": 23,
   "id": "c34642e2",
   "metadata": {},
   "outputs": [
    {
     "name": "stderr",
     "output_type": "stream",
     "text": [
      "/Users/vahidehrasekhi/opt/anaconda3/lib/python3.8/site-packages/sklearn/linear_model/_logistic.py:814: ConvergenceWarning: lbfgs failed to converge (status=1):\n",
      "STOP: TOTAL NO. of ITERATIONS REACHED LIMIT.\n",
      "\n",
      "Increase the number of iterations (max_iter) or scale the data as shown in:\n",
      "    https://scikit-learn.org/stable/modules/preprocessing.html\n",
      "Please also refer to the documentation for alternative solver options:\n",
      "    https://scikit-learn.org/stable/modules/linear_model.html#logistic-regression\n",
      "  n_iter_i = _check_optimize_result(\n",
      "/Users/vahidehrasekhi/opt/anaconda3/lib/python3.8/site-packages/sklearn/linear_model/_logistic.py:814: ConvergenceWarning: lbfgs failed to converge (status=1):\n",
      "STOP: TOTAL NO. of ITERATIONS REACHED LIMIT.\n",
      "\n",
      "Increase the number of iterations (max_iter) or scale the data as shown in:\n",
      "    https://scikit-learn.org/stable/modules/preprocessing.html\n",
      "Please also refer to the documentation for alternative solver options:\n",
      "    https://scikit-learn.org/stable/modules/linear_model.html#logistic-regression\n",
      "  n_iter_i = _check_optimize_result(\n",
      "/Users/vahidehrasekhi/opt/anaconda3/lib/python3.8/site-packages/sklearn/linear_model/_logistic.py:814: ConvergenceWarning: lbfgs failed to converge (status=1):\n",
      "STOP: TOTAL NO. of ITERATIONS REACHED LIMIT.\n",
      "\n",
      "Increase the number of iterations (max_iter) or scale the data as shown in:\n",
      "    https://scikit-learn.org/stable/modules/preprocessing.html\n",
      "Please also refer to the documentation for alternative solver options:\n",
      "    https://scikit-learn.org/stable/modules/linear_model.html#logistic-regression\n",
      "  n_iter_i = _check_optimize_result(\n",
      "/Users/vahidehrasekhi/opt/anaconda3/lib/python3.8/site-packages/sklearn/linear_model/_logistic.py:814: ConvergenceWarning: lbfgs failed to converge (status=1):\n",
      "STOP: TOTAL NO. of ITERATIONS REACHED LIMIT.\n",
      "\n",
      "Increase the number of iterations (max_iter) or scale the data as shown in:\n",
      "    https://scikit-learn.org/stable/modules/preprocessing.html\n",
      "Please also refer to the documentation for alternative solver options:\n",
      "    https://scikit-learn.org/stable/modules/linear_model.html#logistic-regression\n",
      "  n_iter_i = _check_optimize_result(\n",
      "/Users/vahidehrasekhi/opt/anaconda3/lib/python3.8/site-packages/sklearn/linear_model/_logistic.py:814: ConvergenceWarning: lbfgs failed to converge (status=1):\n",
      "STOP: TOTAL NO. of ITERATIONS REACHED LIMIT.\n",
      "\n",
      "Increase the number of iterations (max_iter) or scale the data as shown in:\n",
      "    https://scikit-learn.org/stable/modules/preprocessing.html\n",
      "Please also refer to the documentation for alternative solver options:\n",
      "    https://scikit-learn.org/stable/modules/linear_model.html#logistic-regression\n",
      "  n_iter_i = _check_optimize_result(\n",
      "/Users/vahidehrasekhi/opt/anaconda3/lib/python3.8/site-packages/sklearn/linear_model/_logistic.py:814: ConvergenceWarning: lbfgs failed to converge (status=1):\n",
      "STOP: TOTAL NO. of ITERATIONS REACHED LIMIT.\n",
      "\n",
      "Increase the number of iterations (max_iter) or scale the data as shown in:\n",
      "    https://scikit-learn.org/stable/modules/preprocessing.html\n",
      "Please also refer to the documentation for alternative solver options:\n",
      "    https://scikit-learn.org/stable/modules/linear_model.html#logistic-regression\n",
      "  n_iter_i = _check_optimize_result(\n",
      "/Users/vahidehrasekhi/opt/anaconda3/lib/python3.8/site-packages/sklearn/linear_model/_logistic.py:814: ConvergenceWarning: lbfgs failed to converge (status=1):\n",
      "STOP: TOTAL NO. of ITERATIONS REACHED LIMIT.\n",
      "\n",
      "Increase the number of iterations (max_iter) or scale the data as shown in:\n",
      "    https://scikit-learn.org/stable/modules/preprocessing.html\n",
      "Please also refer to the documentation for alternative solver options:\n",
      "    https://scikit-learn.org/stable/modules/linear_model.html#logistic-regression\n",
      "  n_iter_i = _check_optimize_result(\n",
      "/Users/vahidehrasekhi/opt/anaconda3/lib/python3.8/site-packages/sklearn/linear_model/_logistic.py:814: ConvergenceWarning: lbfgs failed to converge (status=1):\n",
      "STOP: TOTAL NO. of ITERATIONS REACHED LIMIT.\n",
      "\n",
      "Increase the number of iterations (max_iter) or scale the data as shown in:\n",
      "    https://scikit-learn.org/stable/modules/preprocessing.html\n",
      "Please also refer to the documentation for alternative solver options:\n",
      "    https://scikit-learn.org/stable/modules/linear_model.html#logistic-regression\n",
      "  n_iter_i = _check_optimize_result(\n",
      "/Users/vahidehrasekhi/opt/anaconda3/lib/python3.8/site-packages/sklearn/linear_model/_logistic.py:814: ConvergenceWarning: lbfgs failed to converge (status=1):\n",
      "STOP: TOTAL NO. of ITERATIONS REACHED LIMIT.\n",
      "\n",
      "Increase the number of iterations (max_iter) or scale the data as shown in:\n",
      "    https://scikit-learn.org/stable/modules/preprocessing.html\n",
      "Please also refer to the documentation for alternative solver options:\n",
      "    https://scikit-learn.org/stable/modules/linear_model.html#logistic-regression\n",
      "  n_iter_i = _check_optimize_result(\n"
     ]
    },
    {
     "name": "stdout",
     "output_type": "stream",
     "text": [
      "Best cross validation score: 0.96\n",
      "Best parameters:  {'C': 10, 'solver': 'newton-cg'}\n"
     ]
    }
   ],
   "source": [
    "param_grid= {'C':[100,10,1.0,0.1, 0.01], 'solver':['newton-cg', 'lbfgs', 'liblinear']}\n",
    "grid=GridSearchCV(LogisticRegression(), param_grid, cv=5)\n",
    "grid.fit(X_train_vect, y_train)\n",
    "print(\"Best cross validation score: {:.2f}\" .format(grid.best_score_))\n",
    "print(\"Best parameters: \", grid.best_params_)\n"
   ]
  },
  {
   "cell_type": "code",
   "execution_count": 24,
   "id": "d62faad4",
   "metadata": {},
   "outputs": [],
   "source": [
    "y_pred=grid.predict(X_dev_vect)"
   ]
  },
  {
   "cell_type": "code",
   "execution_count": 25,
   "id": "4ac3e4a5",
   "metadata": {},
   "outputs": [
    {
     "name": "stdout",
     "output_type": "stream",
     "text": [
      "Test accuracy: 96.12%\n"
     ]
    }
   ],
   "source": [
    "logreg_acc=accuracy_score(y_pred, y_dev)\n",
    "print(\"Test accuracy: {:.2f}%\" .format(logreg_acc*100))"
   ]
  },
  {
   "cell_type": "code",
   "execution_count": 26,
   "id": "662f620a",
   "metadata": {},
   "outputs": [
    {
     "name": "stdout",
     "output_type": "stream",
     "text": [
      "[[4378   49]\n",
      " [ 137  226]]\n",
      "\n",
      "\n",
      "              precision    recall  f1-score   support\n",
      "\n",
      "           0       0.97      0.99      0.98      4427\n",
      "           1       0.82      0.62      0.71       363\n",
      "\n",
      "    accuracy                           0.96      4790\n",
      "   macro avg       0.90      0.81      0.84      4790\n",
      "weighted avg       0.96      0.96      0.96      4790\n",
      "\n"
     ]
    }
   ],
   "source": [
    "print(confusion_matrix(y_dev, y_pred))\n",
    "print(\"\\n\")\n",
    "print(classification_report(y_dev, y_pred))\n",
    "\n",
    "#confusion matrix from logistic regression \n",
    "                                            #TP 4395 -- FP 32  #positives are non_offensive\n",
    "                                            # FN 174  -- TN 189  #negatives are offensive\n",
    "        "
   ]
  },
  {
   "cell_type": "code",
   "execution_count": 27,
   "id": "b491c77e",
   "metadata": {},
   "outputs": [
    {
     "data": {
      "text/plain": [
       "0.7084639498432602"
      ]
     },
     "execution_count": 27,
     "metadata": {},
     "output_type": "execute_result"
    }
   ],
   "source": [
    "#the F1_score is 70%\n",
    "\n",
    "from sklearn.metrics import f1_score\n",
    "\n",
    "f1_score(y_dev, y_pred)"
   ]
  },
  {
   "cell_type": "code",
   "execution_count": 28,
   "id": "725305de",
   "metadata": {},
   "outputs": [
    {
     "name": "stdout",
     "output_type": "stream",
     "text": [
      "['deeper look' 'pre crime germany places make wear badges'\n",
      " 'lady said juniors area ask leave someone complained boss defended'\n",
      " 'wanna mock country b c pt libtards b c' 'stop annoying'\n",
      " 'clear good reason hand keys goon yet'\n",
      " 'boycott lying divisive nationalist foxnews add list karma'\n",
      " 'thank mr president obama light revealed darkness people usa stronger'\n",
      " 'happyholidays try christmaseve'\n",
      " 'ebonics pa huge con job blacks liberals running america decades actually lack lan'\n",
      " 'conormcgregor runs mouth endlessly like rondarousey lost yet ppl take glee losing perhaps'\n",
      " 'neogaf today another attack japanese chinese claims racist'\n",
      " 'jonjo shelvey man ever racially abuse someone without saying anything kickitout shelvey'\n",
      " '2016 year' 'clickbait much really shitty headline change'\n",
      " 'biopolitics desire neo nazi fashion icons eugenics'\n",
      " 'dearfellowwhitepeople 2017 let realize u 2 wear white hood swastika tattoo 2 b r sa'\n",
      " 'special message land either trump trumpsamerica day 1'\n",
      " 'latest say thanks culturesways' 'definitely mexican fakenewsale'\n",
      " 'problem america today dumbism dumb equal oppounity killer dreams'\n",
      " 'remember camber sands deaths blamed victims culture council rother'\n",
      " 'potus attempting sabotage country final days israel obamacare isis energy russia'\n",
      " 'one leaving eah piece shit'\n",
      " 'decision perform trump forever stain mormon values'\n",
      " '7 ways facebook repoingsystem fails communitystandards blacklivesmatter'\n",
      " 'fuck full outrage' 'misogyny alive well left never let tell'\n",
      " 'hammock attempted whitegenocide lies tinfoilhat fakenews altrightcards'\n",
      " 'reson many muslims might'\n",
      " 'trumpsamerica feeling empowerd fowoh mother arrest via'\n",
      " 'dems need keep feeding narrative marxism'\n",
      " 'queue basket food shopping 50 guy says give us smile think response first look face'\n",
      " 'right idea deal nasty'\n",
      " 'ifyousawinyouwhatisee would believe accusations regarding father'\n",
      " 'girls world natt chanapa nu sex fuck'\n",
      " 'wtf propaganda rant inveed aussie flag w muslim cresc'\n",
      " 'says ashamed things done continues make shameful remarks women hypocrite'\n",
      " 'girl get fuck leg fucking'\n",
      " 'wife crashes funeral horrifying husband ordered killed community turns'\n",
      " 'essential reading someone follow'\n",
      " 'learned men find breast feeding repulsive fathers makes sense whatsoever'\n",
      " 'lesson history choose carefully main l king malcolm x reconciliation vengeance blacklivesmatter lg'\n",
      " 'well said staywoke'\n",
      " 'times grave danger dissent recast treason unchained intolerance march'\n",
      " 'disgusting grandmother grandsons exist already' 'hello love glad see'\n",
      " 'impoant message publicserviceannouncement psa inspirechange embraceyourself bedifferent dream'\n",
      " 'wakemeupwhen left stops hypocritical liberallogic'\n",
      " 'black women free kerala girls sex photos'\n",
      " 'antics purposedly used liberals divide us wakeupamericaca'\n",
      " 'porn videos free nude beach photo'\n",
      " 'oops melted another fragile snowflake sad soreloser heed triggerwarning'\n",
      " 'wahhhh white ppl arent allowed fuck rich care'\n",
      " 'pastor maimane respond zille boss literally made kiss job goodbye shou'\n",
      " 'fuck donald trump never president opkkk optrump illegitimate oligarch plutocrat shill'\n",
      " 'country argues different shades black' 'snatch wig james brown head get'\n",
      " '4th remake hi 5 token asian chick carolsbycandlelight'\n",
      " 'got australian shitty things'\n",
      " 'already happening given russia reasons jolly hacking fraud'\n",
      " 'pre ordered sounds really great book'\n",
      " 'girls world sexy mature housewife'\n",
      " 'ny cunt campaign co chair unleashes obamas 2017 wish list via fucktrump'\n",
      " 'never content sit back watch others rights trampled upon rights could next iqg'\n",
      " 'follow gentlemen kicked airlines simply speaking arabic'\n",
      " 'term works ways happy keep bandying justsaying'\n",
      " 'texas man kills latina stepmom celebrating cowboys win newswithed'\n",
      " 'lasses'\n",
      " 'workplace family responsibilities add pressure face unequal pay lack suppo'\n",
      " 'today 1000 pornstars'\n",
      " 'joemixon espn minnesotavikings goes without saying homophobe sucklahoma oab'\n",
      " 'turn resignation' 'ed op racist enough'\n",
      " 'theresistance resist must stand together brothers sisters'\n",
      " 'dear please give us multi racial objective list prove selection'\n",
      " 'supermariorun please stop offended culture madness firstworldproblems'\n",
      " 'know environmental'\n",
      " 'outrageous racism rother dc hope families sue 4 failing follow advice life guard causing'\n",
      " 'well sewer rats take cent use watch football hate'\n",
      " 'welcome 2016 looks like 2017 going full batshit dumb sjws 2016 dumb notracist'\n",
      " 'would best thing done yet'\n",
      " 'microsoft twitterbot turns raging sexist genocide defender ai tech'\n",
      " 'rushlimbaugh incredibly obama impression via' 'happened far often'\n",
      " 'nobdy wants 2 kiss lying conaist homophobic islamaphobic russianhack nomandate traitor'\n",
      " 'shot inside pussy office woman' 'racists never ceased rant 2016'\n",
      " 'prank dad home slapcam black waiting bastard offensive memes meme offensivememes 69'\n",
      " 'destructive socialists maddow'\n",
      " 'dear leftistlunatics change words tell aicle people sick'\n",
      " 'perspective refresher whitesupremacy resist'\n",
      " 'comes supermistict douchebag poke nose sme burninhell'\n",
      " 'meet wilmington peacekeepers walk beauty cnv week actions peace povey climate'\n",
      " 'fuck done mansplaining bullshit' 'scars left us waime camps mt'\n",
      " 'leads violence' 'ask really want follow done'\n",
      " 'aloha oppose fascism warsforoil'\n",
      " 'course liberals see everywhere looking world racist eyes'\n",
      " 'mars bar charging guys 5 entry girls 2 like modern sexism shame charges unfair'\n",
      " 'defending woman condescension although saw tweet belongs kitchen'\n",
      " 'nude teen play women spo' 'another comment social media idiot'\n",
      " 'latest zurich times' 'lame duck lame dick'\n",
      " 'liked video sjw retard wants'\n",
      " 'safe place blacks country people like bitter'\n",
      " 'fuck donald trump never president opkkk optrump illegitimate oligarch plutocrat shill'\n",
      " 'think one love' 'verizon men moto 360 sale women poweothewomen'\n",
      " 'suck haters hillary voters hate fear trump voters love know'\n",
      " 'ww feel culpable 4 deeply entrenched systemic exists dismantle'\n",
      " 'breathes wave maybe need resilience'\n",
      " 'buy dl book 2017 deal whitenationalist miloyiannopoulos wh'\n",
      " 'stop calling met bbc got big work ahead'\n",
      " 'never mentioned race could care yet bitch called david duke imo'\n",
      " 'must heabreaking blacks within find helpless'\n",
      " 'u termed outsider gave u right said indian many us'\n",
      " 'buddhist burmese nothing buddhism period rohingyas'\n",
      " 'far right georgia showing euro values'\n",
      " 'non stop election blame cspan hiding 8 years 2016 pittsburgh california'\n",
      " 'reading list new year afrofuturism anarchism capitalism colonialism magicrealism'\n",
      " 'haha get' 'sex free sex hotline numbers'\n",
      " 'mars bar charging guys 5 entry girls 2 like modern sexism sham'\n",
      " 'trump politicalcorrectness gone far know never heard obama gone far'\n",
      " 'shuckin andjivin democraticpay want vote'\n",
      " 'auspo l hansen pauline muslims senate chat maria'\n",
      " 'let door hit way sorry ass mofo youdisgustme kickrocks come back white dumbass'\n",
      " 'feds provide inadequate mentalhealth care firstnations internal memo thirdworldcanada'\n",
      " 'may good intentions saying see color missing point col'\n",
      " 'sunbury pennsylvania fliers posted outside mosque muslim usa'\n",
      " 'ignorant pamelaramseytaylor praised cretin beverlywhaling reinstated job state federal funde'\n",
      " 'wen south choose dark south heroines kajal tamanna amy wtf'\n",
      " 'campaign co chair answers questions trump'\n",
      " 'hard believe live world 700 pa hillary thread trending tony hawk']\n"
     ]
    }
   ],
   "source": [
    "#let's look at all tweets that are offensive but we classified them as non_offensive\n",
    "idx_error = (y_dev != y_pred) & (y_dev == 1)\n",
    "print(X_dev[idx_error])"
   ]
  },
  {
   "cell_type": "code",
   "execution_count": 29,
   "id": "0dc14bdc",
   "metadata": {},
   "outputs": [
    {
     "name": "stdout",
     "output_type": "stream",
     "text": [
      "['deeper look' 'pre crime germany places make wear badges'\n",
      " 'lady said juniors area ask leave someone complained boss defended'\n",
      " 'wanna mock country b c pt libtards b c' 'stop annoying'\n",
      " 'clear good reason hand keys goon yet'\n",
      " 'boycott lying divisive nationalist foxnews add list karma'\n",
      " 'thank mr president obama light revealed darkness people usa stronger'\n",
      " 'happyholidays try christmaseve'\n",
      " 'ebonics pa huge con job blacks liberals running america decades actually lack lan'\n",
      " 'conormcgregor runs mouth endlessly like rondarousey lost yet ppl take glee losing perhaps'\n",
      " 'neogaf today another attack japanese chinese claims racist'\n",
      " 'jonjo shelvey man ever racially abuse someone without saying anything kickitout shelvey'\n",
      " '2016 year' 'clickbait much really shitty headline change'\n",
      " 'biopolitics desire neo nazi fashion icons eugenics'\n",
      " 'dearfellowwhitepeople 2017 let realize u 2 wear white hood swastika tattoo 2 b r sa'\n",
      " 'special message land either trump trumpsamerica day 1'\n",
      " 'latest say thanks culturesways' 'definitely mexican fakenewsale'\n",
      " 'problem america today dumbism dumb equal oppounity killer dreams'\n",
      " 'remember camber sands deaths blamed victims culture council rother'\n",
      " 'potus attempting sabotage country final days israel obamacare isis energy russia'\n",
      " 'one leaving eah piece shit'\n",
      " 'decision perform trump forever stain mormon values'\n",
      " '7 ways facebook repoingsystem fails communitystandards blacklivesmatter'\n",
      " 'fuck full outrage' 'misogyny alive well left never let tell'\n",
      " 'hammock attempted whitegenocide lies tinfoilhat fakenews altrightcards'\n",
      " 'reson many muslims might'\n",
      " 'trumpsamerica feeling empowerd fowoh mother arrest via'\n",
      " 'dems need keep feeding narrative marxism'\n",
      " 'queue basket food shopping 50 guy says give us smile think response first look face'\n",
      " 'right idea deal nasty'\n",
      " 'ifyousawinyouwhatisee would believe accusations regarding father'\n",
      " 'girls world natt chanapa nu sex fuck'\n",
      " 'wtf propaganda rant inveed aussie flag w muslim cresc'\n",
      " 'says ashamed things done continues make shameful remarks women hypocrite'\n",
      " 'girl get fuck leg fucking'\n",
      " 'wife crashes funeral horrifying husband ordered killed community turns'\n",
      " 'essential reading someone follow'\n",
      " 'learned men find breast feeding repulsive fathers makes sense whatsoever'\n",
      " 'lesson history choose carefully main l king malcolm x reconciliation vengeance blacklivesmatter lg'\n",
      " 'well said staywoke'\n",
      " 'times grave danger dissent recast treason unchained intolerance march'\n",
      " 'disgusting grandmother grandsons exist already' 'hello love glad see'\n",
      " 'impoant message publicserviceannouncement psa inspirechange embraceyourself bedifferent dream'\n",
      " 'wakemeupwhen left stops hypocritical liberallogic'\n",
      " 'black women free kerala girls sex photos'\n",
      " 'antics purposedly used liberals divide us wakeupamericaca'\n",
      " 'porn videos free nude beach photo'\n",
      " 'oops melted another fragile snowflake sad soreloser heed triggerwarning'\n",
      " 'wahhhh white ppl arent allowed fuck rich care'\n",
      " 'pastor maimane respond zille boss literally made kiss job goodbye shou'\n",
      " 'fuck donald trump never president opkkk optrump illegitimate oligarch plutocrat shill'\n",
      " 'country argues different shades black' 'snatch wig james brown head get'\n",
      " '4th remake hi 5 token asian chick carolsbycandlelight'\n",
      " 'got australian shitty things'\n",
      " 'already happening given russia reasons jolly hacking fraud'\n",
      " 'pre ordered sounds really great book'\n",
      " 'girls world sexy mature housewife'\n",
      " 'ny cunt campaign co chair unleashes obamas 2017 wish list via fucktrump'\n",
      " 'never content sit back watch others rights trampled upon rights could next iqg'\n",
      " 'follow gentlemen kicked airlines simply speaking arabic'\n",
      " 'term works ways happy keep bandying justsaying'\n",
      " 'texas man kills latina stepmom celebrating cowboys win newswithed'\n",
      " 'lasses'\n",
      " 'workplace family responsibilities add pressure face unequal pay lack suppo'\n",
      " 'today 1000 pornstars'\n",
      " 'joemixon espn minnesotavikings goes without saying homophobe sucklahoma oab'\n",
      " 'turn resignation' 'ed op racist enough'\n",
      " 'theresistance resist must stand together brothers sisters'\n",
      " 'dear please give us multi racial objective list prove selection'\n",
      " 'supermariorun please stop offended culture madness firstworldproblems'\n",
      " 'know environmental'\n",
      " 'outrageous racism rother dc hope families sue 4 failing follow advice life guard causing'\n",
      " 'well sewer rats take cent use watch football hate'\n",
      " 'welcome 2016 looks like 2017 going full batshit dumb sjws 2016 dumb notracist'\n",
      " 'would best thing done yet'\n",
      " 'microsoft twitterbot turns raging sexist genocide defender ai tech'\n",
      " 'rushlimbaugh incredibly obama impression via' 'happened far often'\n",
      " 'nobdy wants 2 kiss lying conaist homophobic islamaphobic russianhack nomandate traitor'\n",
      " 'shot inside pussy office woman' 'racists never ceased rant 2016'\n",
      " 'prank dad home slapcam black waiting bastard offensive memes meme offensivememes 69'\n",
      " 'destructive socialists maddow'\n",
      " 'dear leftistlunatics change words tell aicle people sick'\n",
      " 'perspective refresher whitesupremacy resist'\n",
      " 'comes supermistict douchebag poke nose sme burninhell'\n",
      " 'meet wilmington peacekeepers walk beauty cnv week actions peace povey climate'\n",
      " 'fuck done mansplaining bullshit' 'scars left us waime camps mt'\n",
      " 'leads violence' 'ask really want follow done'\n",
      " 'aloha oppose fascism warsforoil'\n",
      " 'course liberals see everywhere looking world racist eyes'\n",
      " 'mars bar charging guys 5 entry girls 2 like modern sexism shame charges unfair'\n",
      " 'defending woman condescension although saw tweet belongs kitchen'\n",
      " 'nude teen play women spo' 'another comment social media idiot'\n",
      " 'latest zurich times' 'lame duck lame dick'\n",
      " 'liked video sjw retard wants'\n",
      " 'safe place blacks country people like bitter'\n",
      " 'fuck donald trump never president opkkk optrump illegitimate oligarch plutocrat shill'\n",
      " 'think one love' 'verizon men moto 360 sale women poweothewomen'\n",
      " 'suck haters hillary voters hate fear trump voters love know'\n",
      " 'ww feel culpable 4 deeply entrenched systemic exists dismantle'\n",
      " 'breathes wave maybe need resilience'\n",
      " 'buy dl book 2017 deal whitenationalist miloyiannopoulos wh'\n",
      " 'stop calling met bbc got big work ahead'\n",
      " 'never mentioned race could care yet bitch called david duke imo'\n",
      " 'must heabreaking blacks within find helpless'\n",
      " 'u termed outsider gave u right said indian many us'\n",
      " 'buddhist burmese nothing buddhism period rohingyas'\n",
      " 'far right georgia showing euro values'\n",
      " 'non stop election blame cspan hiding 8 years 2016 pittsburgh california'\n",
      " 'reading list new year afrofuturism anarchism capitalism colonialism magicrealism'\n",
      " 'haha get' 'sex free sex hotline numbers'\n",
      " 'mars bar charging guys 5 entry girls 2 like modern sexism sham'\n",
      " 'trump politicalcorrectness gone far know never heard obama gone far'\n",
      " 'shuckin andjivin democraticpay want vote'\n",
      " 'auspo l hansen pauline muslims senate chat maria'\n",
      " 'let door hit way sorry ass mofo youdisgustme kickrocks come back white dumbass'\n",
      " 'feds provide inadequate mentalhealth care firstnations internal memo thirdworldcanada'\n",
      " 'may good intentions saying see color missing point col'\n",
      " 'sunbury pennsylvania fliers posted outside mosque muslim usa'\n",
      " 'ignorant pamelaramseytaylor praised cretin beverlywhaling reinstated job state federal funde'\n",
      " 'wen south choose dark south heroines kajal tamanna amy wtf'\n",
      " 'campaign co chair answers questions trump'\n",
      " 'hard believe live world 700 pa hillary thread trending tony hawk']\n"
     ]
    }
   ],
   "source": [
    "#let's look at all tweets that are non_offensive but we classified them as offensive\n",
    "idx_error1 = (y_dev != y_pred) & (y_dev == 0)\n",
    "print(X_dev[idx_error])"
   ]
  },
  {
   "cell_type": "markdown",
   "id": "bdcc1d1f",
   "metadata": {},
   "source": [
    "### RandomizedSearchCV"
   ]
  },
  {
   "cell_type": "code",
   "execution_count": 30,
   "id": "ba728ef8",
   "metadata": {},
   "outputs": [],
   "source": [
    "from sklearn.pipeline import Pipeline\n",
    "from sklearn.model_selection import RandomizedSearchCV\n",
    "from sklearn.feature_selection import SelectPercentile, chi2\n",
    "from sklearn.feature_extraction.text import CountVectorizer, TfidfVectorizer"
   ]
  },
  {
   "cell_type": "code",
   "execution_count": 31,
   "id": "3ca12da4",
   "metadata": {},
   "outputs": [],
   "source": [
    "vect_1 = CountVectorizer(\n",
    "    token_pattern = r\"[a-z]+\", \n",
    "    ngram_range = (1,1),\n",
    "    lowercase = True,\n",
    "    min_df = 1,\n",
    "    max_df = 1.0\n",
    ")\n",
    "\n",
    "vect_2 = TfidfVectorizer(\n",
    "    token_pattern = r\"[a-z]+\", \n",
    "    ngram_range = (1,1),\n",
    "    lowercase = True,\n",
    "    min_df = 1,\n",
    "    max_df = 1.0\n",
    ")\n",
    "\n",
    "select = SelectPercentile(score_func=chi2)\n",
    "\n",
    "clf = LogisticRegression()\n",
    "\n",
    "pipe = Pipeline([(\"vect\", vect_1), (\"select\", select), (\"clf\", clf)])"
   ]
  },
  {
   "cell_type": "code",
   "execution_count": 32,
   "id": "21377f48",
   "metadata": {},
   "outputs": [
    {
     "name": "stdout",
     "output_type": "stream",
     "text": [
      "Fitting 1 folds for each of 30 candidates, totalling 30 fits\n"
     ]
    },
    {
     "name": "stderr",
     "output_type": "stream",
     "text": [
      "/Users/vahidehrasekhi/opt/anaconda3/lib/python3.8/site-packages/sklearn/model_selection/_validation.py:372: FitFailedWarning: \n",
      "17 fits failed out of a total of 30.\n",
      "The score on these train-test partitions for these parameters will be set to nan.\n",
      "If these failures are not expected, you can try to debug them by setting error_score='raise'.\n",
      "\n",
      "Below are more details about the failures:\n",
      "--------------------------------------------------------------------------------\n",
      "17 fits failed with the following error:\n",
      "Traceback (most recent call last):\n",
      "  File \"/Users/vahidehrasekhi/opt/anaconda3/lib/python3.8/site-packages/sklearn/model_selection/_validation.py\", line 680, in _fit_and_score\n",
      "    estimator.fit(X_train, y_train, **fit_params)\n",
      "  File \"/Users/vahidehrasekhi/opt/anaconda3/lib/python3.8/site-packages/sklearn/pipeline.py\", line 394, in fit\n",
      "    self._final_estimator.fit(Xt, y, **fit_params_last_step)\n",
      "  File \"/Users/vahidehrasekhi/opt/anaconda3/lib/python3.8/site-packages/sklearn/linear_model/_logistic.py\", line 1461, in fit\n",
      "    solver = _check_solver(self.solver, self.penalty, self.dual)\n",
      "  File \"/Users/vahidehrasekhi/opt/anaconda3/lib/python3.8/site-packages/sklearn/linear_model/_logistic.py\", line 447, in _check_solver\n",
      "    raise ValueError(\n",
      "ValueError: Solver lbfgs supports only 'l2' or 'none' penalties, got l1 penalty.\n",
      "\n",
      "  warnings.warn(some_fits_failed_message, FitFailedWarning)\n",
      "/Users/vahidehrasekhi/opt/anaconda3/lib/python3.8/site-packages/sklearn/model_selection/_search.py:969: UserWarning: One or more of the test scores are non-finite: [       nan 0.5646438  0.         0.         0.37580994        nan\n",
      "        nan        nan        nan        nan        nan        nan\n",
      "        nan        nan        nan 0.         0.         0.53359299\n",
      "        nan 0.         0.06914894 0.57441253        nan 0.345898\n",
      "        nan 0.47819063        nan 0.03773585        nan        nan]\n",
      "  warnings.warn(\n"
     ]
    },
    {
     "name": "stdout",
     "output_type": "stream",
     "text": [
      "{'vect__ngram_range': (1, 3), 'vect__min_df': 10, 'vect': TfidfVectorizer(min_df=10, ngram_range=(1, 3), token_pattern='[a-z]+'), 'select__percentile': 5, 'clf__penalty': 'l2', 'clf__class_weight': 'balanced', 'clf__C': 10.0}\n",
      "0.5744125326370757\n"
     ]
    },
    {
     "name": "stderr",
     "output_type": "stream",
     "text": [
      "/Users/vahidehrasekhi/opt/anaconda3/lib/python3.8/site-packages/sklearn/linear_model/_logistic.py:814: ConvergenceWarning: lbfgs failed to converge (status=1):\n",
      "STOP: TOTAL NO. of ITERATIONS REACHED LIMIT.\n",
      "\n",
      "Increase the number of iterations (max_iter) or scale the data as shown in:\n",
      "    https://scikit-learn.org/stable/modules/preprocessing.html\n",
      "Please also refer to the documentation for alternative solver options:\n",
      "    https://scikit-learn.org/stable/modules/linear_model.html#logistic-regression\n",
      "  n_iter_i = _check_optimize_result(\n"
     ]
    }
   ],
   "source": [
    "param_grid = {\n",
    "    'vect':[vect_1, vect_2],\n",
    "    'vect__ngram_range':[(1,1), (1,2), (1,3)],\n",
    "    'vect__min_df':[1, 2, 5, 10, 20],\n",
    "    'select__percentile':[1, 2, 5, 10, 20, 50],\n",
    "    'clf__penalty':['l1', 'l2'],\n",
    "    'clf__C':[1e-4, 1e-3, 1e-2, 0.1, 1.0, 10.0],\n",
    "    'clf__class_weight':[None, 'balanced']\n",
    "}\n",
    "\n",
    "rs = RandomizedSearchCV(pipe, param_grid, n_iter=30, scoring='f1', n_jobs=6, cv=ps, verbose=2)\n",
    "rs.fit(X, y)\n",
    "print(rs.best_params_)\n",
    "print(rs.best_score_)"
   ]
  },
  {
   "cell_type": "code",
   "execution_count": 33,
   "id": "a4f046a5",
   "metadata": {},
   "outputs": [
    {
     "data": {
      "text/plain": [
       "array([[4227,  200],\n",
       "       [ 120,  243]])"
      ]
     },
     "execution_count": 33,
     "metadata": {},
     "output_type": "execute_result"
    }
   ],
   "source": [
    "y_pred = rs.best_estimator_.predict(X_dev)\n",
    "confusion_matrix(y_dev, y_pred)\n",
    "\n",
    "#confusion matrix from logistic regression \n",
    "                                            #TP 4395 -- FP 32  #positives are non_offensive\n",
    "                                            # FN 174  -- TN 189  #negatives are offensive\n",
    "\n",
    "#confusion matrix with GridSearchCV \n",
    "                                            #TP 4378 -- FP 49  #positives are non_offensive\n",
    "                                            # FN 137  -- TN 226  #negatives are offensive\n",
    "\n",
    "        \n",
    "#confusion matrix with RandomSearchCV/Tfidf\n",
    "                                            #TP 4427 -- FP 0  #positives are non_offensive\n",
    "                                            # FN 14  -- TN 349 #negatives are offensive\n"
   ]
  },
  {
   "cell_type": "code",
   "execution_count": 34,
   "id": "6b77950a",
   "metadata": {},
   "outputs": [
    {
     "name": "stdout",
     "output_type": "stream",
     "text": [
      "              precision    recall  f1-score   support\n",
      "\n",
      "           0       0.97      0.95      0.96      4427\n",
      "           1       0.55      0.67      0.60       363\n",
      "\n",
      "    accuracy                           0.93      4790\n",
      "   macro avg       0.76      0.81      0.78      4790\n",
      "weighted avg       0.94      0.93      0.94      4790\n",
      "\n"
     ]
    }
   ],
   "source": [
    "print(classification_report(y_dev, y_pred))\n"
   ]
  },
  {
   "cell_type": "code",
   "execution_count": 35,
   "id": "8d3bf684",
   "metadata": {},
   "outputs": [
    {
     "data": {
      "text/plain": [
       "0.6029776674937966"
      ]
     },
     "execution_count": 35,
     "metadata": {},
     "output_type": "execute_result"
    }
   ],
   "source": [
    "f1_score(y_dev, y_pred)"
   ]
  },
  {
   "cell_type": "code",
   "execution_count": 36,
   "id": "03509a4b",
   "metadata": {},
   "outputs": [
    {
     "data": {
      "text/plain": [
       "0.9331941544885177"
      ]
     },
     "execution_count": 36,
     "metadata": {},
     "output_type": "execute_result"
    }
   ],
   "source": [
    "np.mean(y_dev==y_pred)"
   ]
  },
  {
   "cell_type": "code",
   "execution_count": null,
   "id": "6d14531b",
   "metadata": {},
   "outputs": [],
   "source": []
  },
  {
   "cell_type": "code",
   "execution_count": null,
   "id": "145e1d9f",
   "metadata": {},
   "outputs": [],
   "source": []
  },
  {
   "cell_type": "code",
   "execution_count": null,
   "id": "80b24480",
   "metadata": {},
   "outputs": [],
   "source": []
  },
  {
   "cell_type": "code",
   "execution_count": null,
   "id": "261045c5",
   "metadata": {},
   "outputs": [],
   "source": []
  }
 ],
 "metadata": {
  "kernelspec": {
   "display_name": "Python 3",
   "language": "python",
   "name": "python3"
  },
  "language_info": {
   "codemirror_mode": {
    "name": "ipython",
    "version": 3
   },
   "file_extension": ".py",
   "mimetype": "text/x-python",
   "name": "python",
   "nbconvert_exporter": "python",
   "pygments_lexer": "ipython3",
   "version": "3.8.8"
  }
 },
 "nbformat": 4,
 "nbformat_minor": 5
}
